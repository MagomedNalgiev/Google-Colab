{
  "nbformat": 4,
  "nbformat_minor": 0,
  "metadata": {
    "colab": {
      "provenance": [],
      "authorship_tag": "ABX9TyMzVD89Wrn+H2dJHFRCK0q4",
      "include_colab_link": true
    },
    "kernelspec": {
      "name": "python3",
      "display_name": "Python 3"
    },
    "language_info": {
      "name": "python"
    }
  },
  "cells": [
    {
      "cell_type": "markdown",
      "metadata": {
        "id": "view-in-github",
        "colab_type": "text"
      },
      "source": [
        "<a href=\"https://colab.research.google.com/github/MagomedNalgiev/Google-Colab/blob/main/ML_learn_Boston.ipynb\" target=\"_parent\"><img src=\"https://colab.research.google.com/assets/colab-badge.svg\" alt=\"Open In Colab\"/></a>"
      ]
    },
    {
      "cell_type": "code",
      "execution_count": 2,
      "metadata": {
        "id": "LsZe4RnXPHDJ"
      },
      "outputs": [],
      "source": [
        "import numpy as np\n",
        "import tensorflow as tf\n",
        "from tensorflow import keras\n",
        "from tensorflow.keras import layers\n",
        "from sklearn.datasets import fetch_california_housing\n",
        "from sklearn.model_selection import train_test_split\n",
        "from sklearn.preprocessing import StandardScaler"
      ]
    },
    {
      "cell_type": "code",
      "source": [
        "california_housing = fetch_california_housing()\n",
        "X, y = california_housing.data, california_housing.target\n"
      ],
      "metadata": {
        "id": "99X4AuFtPOuL"
      },
      "execution_count": 3,
      "outputs": []
    },
    {
      "cell_type": "code",
      "source": [
        "X_train, X_test, y_train, y_test = train_test_split(X, y, test_size=0.2, random_state=42)\n"
      ],
      "metadata": {
        "id": "4SchZMhIPtbj"
      },
      "execution_count": 4,
      "outputs": []
    },
    {
      "cell_type": "code",
      "source": [
        "scaler = StandardScaler()\n",
        "X_train_scaled = scaler.fit_transform(X_train)\n",
        "X_test_scaled = scaler.transform(X_test)\n"
      ],
      "metadata": {
        "id": "z3A1xFbmPyPa"
      },
      "execution_count": 5,
      "outputs": []
    },
    {
      "cell_type": "code",
      "source": [
        "model = keras.Sequential([\n",
        "    layers.Dense(64, activation='relu', input_shape=(X_train.shape[1],)),\n",
        "    layers.Dense(64, activation='relu'),\n",
        "    layers.Dense(1)\n",
        "])\n"
      ],
      "metadata": {
        "colab": {
          "base_uri": "https://localhost:8080/"
        },
        "id": "LNT1h0X2P01w",
        "outputId": "72cc9ae0-4e44-4443-c1a4-199c806afa86"
      },
      "execution_count": 6,
      "outputs": [
        {
          "output_type": "stream",
          "name": "stderr",
          "text": [
            "/usr/local/lib/python3.11/dist-packages/keras/src/layers/core/dense.py:87: UserWarning: Do not pass an `input_shape`/`input_dim` argument to a layer. When using Sequential models, prefer using an `Input(shape)` object as the first layer in the model instead.\n",
            "  super().__init__(activity_regularizer=activity_regularizer, **kwargs)\n"
          ]
        }
      ]
    },
    {
      "cell_type": "code",
      "source": [
        "model.compile(optimizer='adam',\n",
        "              loss='mean_squared_error',\n",
        "              metrics=['mean_absolute_error'])\n"
      ],
      "metadata": {
        "id": "9h9tU1r1P2c6"
      },
      "execution_count": 7,
      "outputs": []
    },
    {
      "cell_type": "code",
      "source": [
        "history = model.fit(X_train_scaled, y_train, epochs=100, batch_size=32, validation_split=0.1)\n"
      ],
      "metadata": {
        "colab": {
          "base_uri": "https://localhost:8080/"
        },
        "id": "R2WaLY3dP6M8",
        "outputId": "605195cd-d851-43c3-c96f-730f19c2de29"
      },
      "execution_count": 8,
      "outputs": [
        {
          "output_type": "stream",
          "name": "stdout",
          "text": [
            "Epoch 1/100\n",
            "\u001b[1m465/465\u001b[0m \u001b[32m━━━━━━━━━━━━━━━━━━━━\u001b[0m\u001b[37m\u001b[0m \u001b[1m4s\u001b[0m 3ms/step - loss: 1.3102 - mean_absolute_error: 0.7746 - val_loss: 0.4475 - val_mean_absolute_error: 0.4781\n",
            "Epoch 2/100\n",
            "\u001b[1m465/465\u001b[0m \u001b[32m━━━━━━━━━━━━━━━━━━━━\u001b[0m\u001b[37m\u001b[0m \u001b[1m1s\u001b[0m 3ms/step - loss: 0.5489 - mean_absolute_error: 0.4526 - val_loss: 0.4103 - val_mean_absolute_error: 0.4538\n",
            "Epoch 3/100\n",
            "\u001b[1m465/465\u001b[0m \u001b[32m━━━━━━━━━━━━━━━━━━━━\u001b[0m\u001b[37m\u001b[0m \u001b[1m1s\u001b[0m 3ms/step - loss: 0.3809 - mean_absolute_error: 0.4336 - val_loss: 0.4030 - val_mean_absolute_error: 0.4574\n",
            "Epoch 4/100\n",
            "\u001b[1m465/465\u001b[0m \u001b[32m━━━━━━━━━━━━━━━━━━━━\u001b[0m\u001b[37m\u001b[0m \u001b[1m3s\u001b[0m 3ms/step - loss: 0.3610 - mean_absolute_error: 0.4226 - val_loss: 0.3753 - val_mean_absolute_error: 0.4221\n",
            "Epoch 5/100\n",
            "\u001b[1m465/465\u001b[0m \u001b[32m━━━━━━━━━━━━━━━━━━━━\u001b[0m\u001b[37m\u001b[0m \u001b[1m3s\u001b[0m 5ms/step - loss: 0.3259 - mean_absolute_error: 0.4026 - val_loss: 0.3652 - val_mean_absolute_error: 0.4194\n",
            "Epoch 6/100\n",
            "\u001b[1m465/465\u001b[0m \u001b[32m━━━━━━━━━━━━━━━━━━━━\u001b[0m\u001b[37m\u001b[0m \u001b[1m1s\u001b[0m 3ms/step - loss: 0.3249 - mean_absolute_error: 0.3986 - val_loss: 0.3581 - val_mean_absolute_error: 0.4117\n",
            "Epoch 7/100\n",
            "\u001b[1m465/465\u001b[0m \u001b[32m━━━━━━━━━━━━━━━━━━━━\u001b[0m\u001b[37m\u001b[0m \u001b[1m1s\u001b[0m 3ms/step - loss: 0.3235 - mean_absolute_error: 0.3967 - val_loss: 0.3780 - val_mean_absolute_error: 0.4150\n",
            "Epoch 8/100\n",
            "\u001b[1m465/465\u001b[0m \u001b[32m━━━━━━━━━━━━━━━━━━━━\u001b[0m\u001b[37m\u001b[0m \u001b[1m1s\u001b[0m 3ms/step - loss: 0.3058 - mean_absolute_error: 0.3850 - val_loss: 0.3521 - val_mean_absolute_error: 0.4224\n",
            "Epoch 9/100\n",
            "\u001b[1m465/465\u001b[0m \u001b[32m━━━━━━━━━━━━━━━━━━━━\u001b[0m\u001b[37m\u001b[0m \u001b[1m1s\u001b[0m 3ms/step - loss: 0.3292 - mean_absolute_error: 0.3903 - val_loss: 0.3380 - val_mean_absolute_error: 0.4165\n",
            "Epoch 10/100\n",
            "\u001b[1m465/465\u001b[0m \u001b[32m━━━━━━━━━━━━━━━━━━━━\u001b[0m\u001b[37m\u001b[0m \u001b[1m1s\u001b[0m 3ms/step - loss: 0.3045 - mean_absolute_error: 0.3828 - val_loss: 0.3383 - val_mean_absolute_error: 0.4005\n",
            "Epoch 11/100\n",
            "\u001b[1m465/465\u001b[0m \u001b[32m━━━━━━━━━━━━━━━━━━━━\u001b[0m\u001b[37m\u001b[0m \u001b[1m1s\u001b[0m 3ms/step - loss: 0.3046 - mean_absolute_error: 0.3865 - val_loss: 0.3229 - val_mean_absolute_error: 0.3912\n",
            "Epoch 12/100\n",
            "\u001b[1m465/465\u001b[0m \u001b[32m━━━━━━━━━━━━━━━━━━━━\u001b[0m\u001b[37m\u001b[0m \u001b[1m1s\u001b[0m 3ms/step - loss: 0.3054 - mean_absolute_error: 0.3794 - val_loss: 0.3202 - val_mean_absolute_error: 0.3836\n",
            "Epoch 13/100\n",
            "\u001b[1m465/465\u001b[0m \u001b[32m━━━━━━━━━━━━━━━━━━━━\u001b[0m\u001b[37m\u001b[0m \u001b[1m2s\u001b[0m 4ms/step - loss: 0.2904 - mean_absolute_error: 0.3706 - val_loss: 0.3289 - val_mean_absolute_error: 0.3847\n",
            "Epoch 14/100\n",
            "\u001b[1m465/465\u001b[0m \u001b[32m━━━━━━━━━━━━━━━━━━━━\u001b[0m\u001b[37m\u001b[0m \u001b[1m2s\u001b[0m 3ms/step - loss: 0.2820 - mean_absolute_error: 0.3703 - val_loss: 0.3187 - val_mean_absolute_error: 0.3946\n",
            "Epoch 15/100\n",
            "\u001b[1m465/465\u001b[0m \u001b[32m━━━━━━━━━━━━━━━━━━━━\u001b[0m\u001b[37m\u001b[0m \u001b[1m1s\u001b[0m 3ms/step - loss: 0.3030 - mean_absolute_error: 0.3715 - val_loss: 0.3154 - val_mean_absolute_error: 0.3830\n",
            "Epoch 16/100\n",
            "\u001b[1m465/465\u001b[0m \u001b[32m━━━━━━━━━━━━━━━━━━━━\u001b[0m\u001b[37m\u001b[0m \u001b[1m1s\u001b[0m 3ms/step - loss: 0.2790 - mean_absolute_error: 0.3654 - val_loss: 0.3110 - val_mean_absolute_error: 0.3837\n",
            "Epoch 17/100\n",
            "\u001b[1m465/465\u001b[0m \u001b[32m━━━━━━━━━━━━━━━━━━━━\u001b[0m\u001b[37m\u001b[0m \u001b[1m1s\u001b[0m 3ms/step - loss: 0.2720 - mean_absolute_error: 0.3624 - val_loss: 0.3121 - val_mean_absolute_error: 0.3867\n",
            "Epoch 18/100\n",
            "\u001b[1m465/465\u001b[0m \u001b[32m━━━━━━━━━━━━━━━━━━━━\u001b[0m\u001b[37m\u001b[0m \u001b[1m1s\u001b[0m 3ms/step - loss: 0.2620 - mean_absolute_error: 0.3545 - val_loss: 0.3097 - val_mean_absolute_error: 0.3796\n",
            "Epoch 19/100\n",
            "\u001b[1m465/465\u001b[0m \u001b[32m━━━━━━━━━━━━━━━━━━━━\u001b[0m\u001b[37m\u001b[0m \u001b[1m1s\u001b[0m 3ms/step - loss: 0.2732 - mean_absolute_error: 0.3593 - val_loss: 0.3065 - val_mean_absolute_error: 0.3776\n",
            "Epoch 20/100\n",
            "\u001b[1m465/465\u001b[0m \u001b[32m━━━━━━━━━━━━━━━━━━━━\u001b[0m\u001b[37m\u001b[0m \u001b[1m1s\u001b[0m 3ms/step - loss: 0.2723 - mean_absolute_error: 0.3584 - val_loss: 0.3083 - val_mean_absolute_error: 0.3888\n",
            "Epoch 21/100\n",
            "\u001b[1m465/465\u001b[0m \u001b[32m━━━━━━━━━━━━━━━━━━━━\u001b[0m\u001b[37m\u001b[0m \u001b[1m1s\u001b[0m 3ms/step - loss: 0.2798 - mean_absolute_error: 0.3571 - val_loss: 0.3139 - val_mean_absolute_error: 0.3913\n",
            "Epoch 22/100\n",
            "\u001b[1m465/465\u001b[0m \u001b[32m━━━━━━━━━━━━━━━━━━━━\u001b[0m\u001b[37m\u001b[0m \u001b[1m2s\u001b[0m 4ms/step - loss: 0.2631 - mean_absolute_error: 0.3569 - val_loss: 0.3148 - val_mean_absolute_error: 0.3779\n",
            "Epoch 23/100\n",
            "\u001b[1m465/465\u001b[0m \u001b[32m━━━━━━━━━━━━━━━━━━━━\u001b[0m\u001b[37m\u001b[0m \u001b[1m2s\u001b[0m 3ms/step - loss: 0.2756 - mean_absolute_error: 0.3569 - val_loss: 0.3057 - val_mean_absolute_error: 0.3760\n",
            "Epoch 24/100\n",
            "\u001b[1m465/465\u001b[0m \u001b[32m━━━━━━━━━━━━━━━━━━━━\u001b[0m\u001b[37m\u001b[0m \u001b[1m1s\u001b[0m 3ms/step - loss: 0.2587 - mean_absolute_error: 0.3465 - val_loss: 0.3118 - val_mean_absolute_error: 0.3813\n",
            "Epoch 25/100\n",
            "\u001b[1m465/465\u001b[0m \u001b[32m━━━━━━━━━━━━━━━━━━━━\u001b[0m\u001b[37m\u001b[0m \u001b[1m3s\u001b[0m 3ms/step - loss: 0.2606 - mean_absolute_error: 0.3504 - val_loss: 0.3059 - val_mean_absolute_error: 0.3811\n",
            "Epoch 26/100\n",
            "\u001b[1m465/465\u001b[0m \u001b[32m━━━━━━━━━━━━━━━━━━━━\u001b[0m\u001b[37m\u001b[0m \u001b[1m3s\u001b[0m 4ms/step - loss: 0.2627 - mean_absolute_error: 0.3524 - val_loss: 0.2988 - val_mean_absolute_error: 0.3767\n",
            "Epoch 27/100\n",
            "\u001b[1m465/465\u001b[0m \u001b[32m━━━━━━━━━━━━━━━━━━━━\u001b[0m\u001b[37m\u001b[0m \u001b[1m2s\u001b[0m 3ms/step - loss: 0.2645 - mean_absolute_error: 0.3562 - val_loss: 0.3087 - val_mean_absolute_error: 0.3723\n",
            "Epoch 28/100\n",
            "\u001b[1m465/465\u001b[0m \u001b[32m━━━━━━━━━━━━━━━━━━━━\u001b[0m\u001b[37m\u001b[0m \u001b[1m3s\u001b[0m 3ms/step - loss: 0.2645 - mean_absolute_error: 0.3541 - val_loss: 0.3084 - val_mean_absolute_error: 0.3727\n",
            "Epoch 29/100\n",
            "\u001b[1m465/465\u001b[0m \u001b[32m━━━━━━━━━━━━━━━━━━━━\u001b[0m\u001b[37m\u001b[0m \u001b[1m1s\u001b[0m 3ms/step - loss: 0.2511 - mean_absolute_error: 0.3449 - val_loss: 0.3006 - val_mean_absolute_error: 0.3749\n",
            "Epoch 30/100\n",
            "\u001b[1m465/465\u001b[0m \u001b[32m━━━━━━━━━━━━━━━━━━━━\u001b[0m\u001b[37m\u001b[0m \u001b[1m1s\u001b[0m 3ms/step - loss: 0.2618 - mean_absolute_error: 0.3503 - val_loss: 0.3087 - val_mean_absolute_error: 0.3936\n",
            "Epoch 31/100\n",
            "\u001b[1m465/465\u001b[0m \u001b[32m━━━━━━━━━━━━━━━━━━━━\u001b[0m\u001b[37m\u001b[0m \u001b[1m4s\u001b[0m 6ms/step - loss: 0.2537 - mean_absolute_error: 0.3474 - val_loss: 0.2999 - val_mean_absolute_error: 0.3774\n",
            "Epoch 32/100\n",
            "\u001b[1m465/465\u001b[0m \u001b[32m━━━━━━━━━━━━━━━━━━━━\u001b[0m\u001b[37m\u001b[0m \u001b[1m5s\u001b[0m 4ms/step - loss: 0.2659 - mean_absolute_error: 0.3518 - val_loss: 0.3047 - val_mean_absolute_error: 0.3912\n",
            "Epoch 33/100\n",
            "\u001b[1m465/465\u001b[0m \u001b[32m━━━━━━━━━━━━━━━━━━━━\u001b[0m\u001b[37m\u001b[0m \u001b[1m2s\u001b[0m 3ms/step - loss: 0.2541 - mean_absolute_error: 0.3472 - val_loss: 0.3063 - val_mean_absolute_error: 0.3887\n",
            "Epoch 34/100\n",
            "\u001b[1m465/465\u001b[0m \u001b[32m━━━━━━━━━━━━━━━━━━━━\u001b[0m\u001b[37m\u001b[0m \u001b[1m3s\u001b[0m 3ms/step - loss: 0.2744 - mean_absolute_error: 0.3536 - val_loss: 0.2957 - val_mean_absolute_error: 0.3733\n",
            "Epoch 35/100\n",
            "\u001b[1m465/465\u001b[0m \u001b[32m━━━━━━━━━━━━━━━━━━━━\u001b[0m\u001b[37m\u001b[0m \u001b[1m3s\u001b[0m 3ms/step - loss: 0.2557 - mean_absolute_error: 0.3439 - val_loss: 0.3175 - val_mean_absolute_error: 0.4001\n",
            "Epoch 36/100\n",
            "\u001b[1m465/465\u001b[0m \u001b[32m━━━━━━━━━━━━━━━━━━━━\u001b[0m\u001b[37m\u001b[0m \u001b[1m1s\u001b[0m 3ms/step - loss: 0.2567 - mean_absolute_error: 0.3465 - val_loss: 0.2965 - val_mean_absolute_error: 0.3699\n",
            "Epoch 37/100\n",
            "\u001b[1m465/465\u001b[0m \u001b[32m━━━━━━━━━━━━━━━━━━━━\u001b[0m\u001b[37m\u001b[0m \u001b[1m3s\u001b[0m 3ms/step - loss: 0.2580 - mean_absolute_error: 0.3454 - val_loss: 0.2915 - val_mean_absolute_error: 0.3674\n",
            "Epoch 38/100\n",
            "\u001b[1m465/465\u001b[0m \u001b[32m━━━━━━━━━━━━━━━━━━━━\u001b[0m\u001b[37m\u001b[0m \u001b[1m3s\u001b[0m 3ms/step - loss: 0.2581 - mean_absolute_error: 0.3476 - val_loss: 0.2874 - val_mean_absolute_error: 0.3665\n",
            "Epoch 39/100\n",
            "\u001b[1m465/465\u001b[0m \u001b[32m━━━━━━━━━━━━━━━━━━━━\u001b[0m\u001b[37m\u001b[0m \u001b[1m2s\u001b[0m 3ms/step - loss: 0.2450 - mean_absolute_error: 0.3377 - val_loss: 0.3099 - val_mean_absolute_error: 0.3938\n",
            "Epoch 40/100\n",
            "\u001b[1m465/465\u001b[0m \u001b[32m━━━━━━━━━━━━━━━━━━━━\u001b[0m\u001b[37m\u001b[0m \u001b[1m1s\u001b[0m 3ms/step - loss: 0.2579 - mean_absolute_error: 0.3474 - val_loss: 0.3098 - val_mean_absolute_error: 0.3711\n",
            "Epoch 41/100\n",
            "\u001b[1m465/465\u001b[0m \u001b[32m━━━━━━━━━━━━━━━━━━━━\u001b[0m\u001b[37m\u001b[0m \u001b[1m1s\u001b[0m 3ms/step - loss: 0.2434 - mean_absolute_error: 0.3360 - val_loss: 0.2947 - val_mean_absolute_error: 0.3717\n",
            "Epoch 42/100\n",
            "\u001b[1m465/465\u001b[0m \u001b[32m━━━━━━━━━━━━━━━━━━━━\u001b[0m\u001b[37m\u001b[0m \u001b[1m2s\u001b[0m 3ms/step - loss: 0.2457 - mean_absolute_error: 0.3385 - val_loss: 0.2887 - val_mean_absolute_error: 0.3671\n",
            "Epoch 43/100\n",
            "\u001b[1m465/465\u001b[0m \u001b[32m━━━━━━━━━━━━━━━━━━━━\u001b[0m\u001b[37m\u001b[0m \u001b[1m3s\u001b[0m 4ms/step - loss: 0.2427 - mean_absolute_error: 0.3361 - val_loss: 0.3021 - val_mean_absolute_error: 0.3678\n",
            "Epoch 44/100\n",
            "\u001b[1m465/465\u001b[0m \u001b[32m━━━━━━━━━━━━━━━━━━━━\u001b[0m\u001b[37m\u001b[0m \u001b[1m2s\u001b[0m 3ms/step - loss: 0.2478 - mean_absolute_error: 0.3400 - val_loss: 0.2980 - val_mean_absolute_error: 0.3670\n",
            "Epoch 45/100\n",
            "\u001b[1m465/465\u001b[0m \u001b[32m━━━━━━━━━━━━━━━━━━━━\u001b[0m\u001b[37m\u001b[0m \u001b[1m3s\u001b[0m 3ms/step - loss: 0.2361 - mean_absolute_error: 0.3313 - val_loss: 0.2917 - val_mean_absolute_error: 0.3658\n",
            "Epoch 46/100\n",
            "\u001b[1m465/465\u001b[0m \u001b[32m━━━━━━━━━━━━━━━━━━━━\u001b[0m\u001b[37m\u001b[0m \u001b[1m2s\u001b[0m 3ms/step - loss: 0.2461 - mean_absolute_error: 0.3359 - val_loss: 0.3016 - val_mean_absolute_error: 0.3845\n",
            "Epoch 47/100\n",
            "\u001b[1m465/465\u001b[0m \u001b[32m━━━━━━━━━━━━━━━━━━━━\u001b[0m\u001b[37m\u001b[0m \u001b[1m2s\u001b[0m 3ms/step - loss: 0.2384 - mean_absolute_error: 0.3350 - val_loss: 0.2853 - val_mean_absolute_error: 0.3638\n",
            "Epoch 48/100\n",
            "\u001b[1m465/465\u001b[0m \u001b[32m━━━━━━━━━━━━━━━━━━━━\u001b[0m\u001b[37m\u001b[0m \u001b[1m1s\u001b[0m 3ms/step - loss: 0.2428 - mean_absolute_error: 0.3396 - val_loss: 0.2903 - val_mean_absolute_error: 0.3661\n",
            "Epoch 49/100\n",
            "\u001b[1m465/465\u001b[0m \u001b[32m━━━━━━━━━━━━━━━━━━━━\u001b[0m\u001b[37m\u001b[0m \u001b[1m3s\u001b[0m 3ms/step - loss: 0.2440 - mean_absolute_error: 0.3368 - val_loss: 0.2855 - val_mean_absolute_error: 0.3755\n",
            "Epoch 50/100\n",
            "\u001b[1m465/465\u001b[0m \u001b[32m━━━━━━━━━━━━━━━━━━━━\u001b[0m\u001b[37m\u001b[0m \u001b[1m1s\u001b[0m 3ms/step - loss: 0.2420 - mean_absolute_error: 0.3356 - val_loss: 0.2897 - val_mean_absolute_error: 0.3825\n",
            "Epoch 51/100\n",
            "\u001b[1m465/465\u001b[0m \u001b[32m━━━━━━━━━━━━━━━━━━━━\u001b[0m\u001b[37m\u001b[0m \u001b[1m3s\u001b[0m 3ms/step - loss: 0.2300 - mean_absolute_error: 0.3307 - val_loss: 0.2980 - val_mean_absolute_error: 0.3724\n",
            "Epoch 52/100\n",
            "\u001b[1m465/465\u001b[0m \u001b[32m━━━━━━━━━━━━━━━━━━━━\u001b[0m\u001b[37m\u001b[0m \u001b[1m1s\u001b[0m 3ms/step - loss: 0.2348 - mean_absolute_error: 0.3313 - val_loss: 0.2858 - val_mean_absolute_error: 0.3665\n",
            "Epoch 53/100\n",
            "\u001b[1m465/465\u001b[0m \u001b[32m━━━━━━━━━━━━━━━━━━━━\u001b[0m\u001b[37m\u001b[0m \u001b[1m1s\u001b[0m 3ms/step - loss: 0.2307 - mean_absolute_error: 0.3320 - val_loss: 0.2844 - val_mean_absolute_error: 0.3594\n",
            "Epoch 54/100\n",
            "\u001b[1m465/465\u001b[0m \u001b[32m━━━━━━━━━━━━━━━━━━━━\u001b[0m\u001b[37m\u001b[0m \u001b[1m1s\u001b[0m 3ms/step - loss: 0.2457 - mean_absolute_error: 0.3377 - val_loss: 0.2872 - val_mean_absolute_error: 0.3620\n",
            "Epoch 55/100\n",
            "\u001b[1m465/465\u001b[0m \u001b[32m━━━━━━━━━━━━━━━━━━━━\u001b[0m\u001b[37m\u001b[0m \u001b[1m3s\u001b[0m 5ms/step - loss: 0.2342 - mean_absolute_error: 0.3305 - val_loss: 0.2907 - val_mean_absolute_error: 0.3793\n",
            "Epoch 56/100\n",
            "\u001b[1m465/465\u001b[0m \u001b[32m━━━━━━━━━━━━━━━━━━━━\u001b[0m\u001b[37m\u001b[0m \u001b[1m2s\u001b[0m 4ms/step - loss: 0.2357 - mean_absolute_error: 0.3313 - val_loss: 0.3033 - val_mean_absolute_error: 0.3803\n",
            "Epoch 57/100\n",
            "\u001b[1m465/465\u001b[0m \u001b[32m━━━━━━━━━━━━━━━━━━━━\u001b[0m\u001b[37m\u001b[0m \u001b[1m1s\u001b[0m 3ms/step - loss: 0.2437 - mean_absolute_error: 0.3366 - val_loss: 0.2810 - val_mean_absolute_error: 0.3573\n",
            "Epoch 58/100\n",
            "\u001b[1m465/465\u001b[0m \u001b[32m━━━━━━━━━━━━━━━━━━━━\u001b[0m\u001b[37m\u001b[0m \u001b[1m3s\u001b[0m 3ms/step - loss: 0.2316 - mean_absolute_error: 0.3306 - val_loss: 0.2896 - val_mean_absolute_error: 0.3648\n",
            "Epoch 59/100\n",
            "\u001b[1m465/465\u001b[0m \u001b[32m━━━━━━━━━━━━━━━━━━━━\u001b[0m\u001b[37m\u001b[0m \u001b[1m3s\u001b[0m 4ms/step - loss: 0.2305 - mean_absolute_error: 0.3292 - val_loss: 0.2959 - val_mean_absolute_error: 0.3694\n",
            "Epoch 60/100\n",
            "\u001b[1m465/465\u001b[0m \u001b[32m━━━━━━━━━━━━━━━━━━━━\u001b[0m\u001b[37m\u001b[0m \u001b[1m2s\u001b[0m 5ms/step - loss: 0.2295 - mean_absolute_error: 0.3286 - val_loss: 0.2824 - val_mean_absolute_error: 0.3702\n",
            "Epoch 61/100\n",
            "\u001b[1m465/465\u001b[0m \u001b[32m━━━━━━━━━━━━━━━━━━━━\u001b[0m\u001b[37m\u001b[0m \u001b[1m2s\u001b[0m 5ms/step - loss: 0.2230 - mean_absolute_error: 0.3236 - val_loss: 0.2829 - val_mean_absolute_error: 0.3634\n",
            "Epoch 62/100\n",
            "\u001b[1m465/465\u001b[0m \u001b[32m━━━━━━━━━━━━━━━━━━━━\u001b[0m\u001b[37m\u001b[0m \u001b[1m2s\u001b[0m 3ms/step - loss: 0.2233 - mean_absolute_error: 0.3234 - val_loss: 0.2863 - val_mean_absolute_error: 0.3621\n",
            "Epoch 63/100\n",
            "\u001b[1m465/465\u001b[0m \u001b[32m━━━━━━━━━━━━━━━━━━━━\u001b[0m\u001b[37m\u001b[0m \u001b[1m2s\u001b[0m 3ms/step - loss: 0.2223 - mean_absolute_error: 0.3245 - val_loss: 0.2887 - val_mean_absolute_error: 0.3738\n",
            "Epoch 64/100\n",
            "\u001b[1m465/465\u001b[0m \u001b[32m━━━━━━━━━━━━━━━━━━━━\u001b[0m\u001b[37m\u001b[0m \u001b[1m3s\u001b[0m 3ms/step - loss: 0.2352 - mean_absolute_error: 0.3294 - val_loss: 0.2977 - val_mean_absolute_error: 0.3663\n",
            "Epoch 65/100\n",
            "\u001b[1m465/465\u001b[0m \u001b[32m━━━━━━━━━━━━━━━━━━━━\u001b[0m\u001b[37m\u001b[0m \u001b[1m3s\u001b[0m 3ms/step - loss: 0.2386 - mean_absolute_error: 0.3331 - val_loss: 0.2852 - val_mean_absolute_error: 0.3718\n",
            "Epoch 66/100\n",
            "\u001b[1m465/465\u001b[0m \u001b[32m━━━━━━━━━━━━━━━━━━━━\u001b[0m\u001b[37m\u001b[0m \u001b[1m2s\u001b[0m 5ms/step - loss: 0.2280 - mean_absolute_error: 0.3259 - val_loss: 0.2846 - val_mean_absolute_error: 0.3671\n",
            "Epoch 67/100\n",
            "\u001b[1m465/465\u001b[0m \u001b[32m━━━━━━━━━━━━━━━━━━━━\u001b[0m\u001b[37m\u001b[0m \u001b[1m2s\u001b[0m 3ms/step - loss: 0.2287 - mean_absolute_error: 0.3279 - val_loss: 0.2858 - val_mean_absolute_error: 0.3589\n",
            "Epoch 68/100\n",
            "\u001b[1m465/465\u001b[0m \u001b[32m━━━━━━━━━━━━━━━━━━━━\u001b[0m\u001b[37m\u001b[0m \u001b[1m2s\u001b[0m 4ms/step - loss: 0.2181 - mean_absolute_error: 0.3188 - val_loss: 0.2775 - val_mean_absolute_error: 0.3598\n",
            "Epoch 69/100\n",
            "\u001b[1m465/465\u001b[0m \u001b[32m━━━━━━━━━━━━━━━━━━━━\u001b[0m\u001b[37m\u001b[0m \u001b[1m2s\u001b[0m 3ms/step - loss: 0.2332 - mean_absolute_error: 0.3299 - val_loss: 0.2823 - val_mean_absolute_error: 0.3580\n",
            "Epoch 70/100\n",
            "\u001b[1m465/465\u001b[0m \u001b[32m━━━━━━━━━━━━━━━━━━━━\u001b[0m\u001b[37m\u001b[0m \u001b[1m3s\u001b[0m 3ms/step - loss: 0.2217 - mean_absolute_error: 0.3188 - val_loss: 0.2919 - val_mean_absolute_error: 0.3852\n",
            "Epoch 71/100\n",
            "\u001b[1m465/465\u001b[0m \u001b[32m━━━━━━━━━━━━━━━━━━━━\u001b[0m\u001b[37m\u001b[0m \u001b[1m3s\u001b[0m 5ms/step - loss: 0.2341 - mean_absolute_error: 0.3336 - val_loss: 0.2805 - val_mean_absolute_error: 0.3570\n",
            "Epoch 72/100\n",
            "\u001b[1m465/465\u001b[0m \u001b[32m━━━━━━━━━━━━━━━━━━━━\u001b[0m\u001b[37m\u001b[0m \u001b[1m2s\u001b[0m 5ms/step - loss: 0.2240 - mean_absolute_error: 0.3261 - val_loss: 0.2772 - val_mean_absolute_error: 0.3629\n",
            "Epoch 73/100\n",
            "\u001b[1m465/465\u001b[0m \u001b[32m━━━━━━━━━━━━━━━━━━━━\u001b[0m\u001b[37m\u001b[0m \u001b[1m2s\u001b[0m 3ms/step - loss: 0.2307 - mean_absolute_error: 0.3299 - val_loss: 0.2767 - val_mean_absolute_error: 0.3534\n",
            "Epoch 74/100\n",
            "\u001b[1m465/465\u001b[0m \u001b[32m━━━━━━━━━━━━━━━━━━━━\u001b[0m\u001b[37m\u001b[0m \u001b[1m2s\u001b[0m 3ms/step - loss: 0.2193 - mean_absolute_error: 0.3201 - val_loss: 0.2865 - val_mean_absolute_error: 0.3583\n",
            "Epoch 75/100\n",
            "\u001b[1m465/465\u001b[0m \u001b[32m━━━━━━━━━━━━━━━━━━━━\u001b[0m\u001b[37m\u001b[0m \u001b[1m3s\u001b[0m 3ms/step - loss: 0.2264 - mean_absolute_error: 0.3241 - val_loss: 0.2798 - val_mean_absolute_error: 0.3610\n",
            "Epoch 76/100\n",
            "\u001b[1m465/465\u001b[0m \u001b[32m━━━━━━━━━━━━━━━━━━━━\u001b[0m\u001b[37m\u001b[0m \u001b[1m1s\u001b[0m 3ms/step - loss: 0.2168 - mean_absolute_error: 0.3179 - val_loss: 0.2847 - val_mean_absolute_error: 0.3609\n",
            "Epoch 77/100\n",
            "\u001b[1m465/465\u001b[0m \u001b[32m━━━━━━━━━━━━━━━━━━━━\u001b[0m\u001b[37m\u001b[0m \u001b[1m3s\u001b[0m 4ms/step - loss: 0.2226 - mean_absolute_error: 0.3228 - val_loss: 0.2809 - val_mean_absolute_error: 0.3550\n",
            "Epoch 78/100\n",
            "\u001b[1m465/465\u001b[0m \u001b[32m━━━━━━━━━━━━━━━━━━━━\u001b[0m\u001b[37m\u001b[0m \u001b[1m2s\u001b[0m 3ms/step - loss: 0.2171 - mean_absolute_error: 0.3215 - val_loss: 0.2790 - val_mean_absolute_error: 0.3568\n",
            "Epoch 79/100\n",
            "\u001b[1m465/465\u001b[0m \u001b[32m━━━━━━━━━━━━━━━━━━━━\u001b[0m\u001b[37m\u001b[0m \u001b[1m1s\u001b[0m 3ms/step - loss: 0.2150 - mean_absolute_error: 0.3185 - val_loss: 0.2798 - val_mean_absolute_error: 0.3581\n",
            "Epoch 80/100\n",
            "\u001b[1m465/465\u001b[0m \u001b[32m━━━━━━━━━━━━━━━━━━━━\u001b[0m\u001b[37m\u001b[0m \u001b[1m1s\u001b[0m 3ms/step - loss: 0.2176 - mean_absolute_error: 0.3210 - val_loss: 0.2746 - val_mean_absolute_error: 0.3597\n",
            "Epoch 81/100\n",
            "\u001b[1m465/465\u001b[0m \u001b[32m━━━━━━━━━━━━━━━━━━━━\u001b[0m\u001b[37m\u001b[0m \u001b[1m3s\u001b[0m 3ms/step - loss: 0.2189 - mean_absolute_error: 0.3204 - val_loss: 0.2744 - val_mean_absolute_error: 0.3670\n",
            "Epoch 82/100\n",
            "\u001b[1m465/465\u001b[0m \u001b[32m━━━━━━━━━━━━━━━━━━━━\u001b[0m\u001b[37m\u001b[0m \u001b[1m1s\u001b[0m 3ms/step - loss: 0.2128 - mean_absolute_error: 0.3162 - val_loss: 0.2920 - val_mean_absolute_error: 0.3579\n",
            "Epoch 83/100\n",
            "\u001b[1m465/465\u001b[0m \u001b[32m━━━━━━━━━━━━━━━━━━━━\u001b[0m\u001b[37m\u001b[0m \u001b[1m3s\u001b[0m 4ms/step - loss: 0.2127 - mean_absolute_error: 0.3204 - val_loss: 0.2880 - val_mean_absolute_error: 0.3594\n",
            "Epoch 84/100\n",
            "\u001b[1m465/465\u001b[0m \u001b[32m━━━━━━━━━━━━━━━━━━━━\u001b[0m\u001b[37m\u001b[0m \u001b[1m2s\u001b[0m 4ms/step - loss: 0.2141 - mean_absolute_error: 0.3191 - val_loss: 0.2786 - val_mean_absolute_error: 0.3693\n",
            "Epoch 85/100\n",
            "\u001b[1m465/465\u001b[0m \u001b[32m━━━━━━━━━━━━━━━━━━━━\u001b[0m\u001b[37m\u001b[0m \u001b[1m1s\u001b[0m 3ms/step - loss: 0.2187 - mean_absolute_error: 0.3230 - val_loss: 0.2707 - val_mean_absolute_error: 0.3634\n",
            "Epoch 86/100\n",
            "\u001b[1m465/465\u001b[0m \u001b[32m━━━━━━━━━━━━━━━━━━━━\u001b[0m\u001b[37m\u001b[0m \u001b[1m3s\u001b[0m 3ms/step - loss: 0.2125 - mean_absolute_error: 0.3164 - val_loss: 0.2837 - val_mean_absolute_error: 0.3648\n",
            "Epoch 87/100\n",
            "\u001b[1m465/465\u001b[0m \u001b[32m━━━━━━━━━━━━━━━━━━━━\u001b[0m\u001b[37m\u001b[0m \u001b[1m2s\u001b[0m 3ms/step - loss: 0.2268 - mean_absolute_error: 0.3249 - val_loss: 0.2846 - val_mean_absolute_error: 0.3575\n",
            "Epoch 88/100\n",
            "\u001b[1m465/465\u001b[0m \u001b[32m━━━━━━━━━━━━━━━━━━━━\u001b[0m\u001b[37m\u001b[0m \u001b[1m1s\u001b[0m 3ms/step - loss: 0.2077 - mean_absolute_error: 0.3133 - val_loss: 0.2923 - val_mean_absolute_error: 0.3718\n",
            "Epoch 89/100\n",
            "\u001b[1m465/465\u001b[0m \u001b[32m━━━━━━━━━━━━━━━━━━━━\u001b[0m\u001b[37m\u001b[0m \u001b[1m2s\u001b[0m 3ms/step - loss: 0.2249 - mean_absolute_error: 0.3246 - val_loss: 0.2961 - val_mean_absolute_error: 0.3853\n",
            "Epoch 90/100\n",
            "\u001b[1m465/465\u001b[0m \u001b[32m━━━━━━━━━━━━━━━━━━━━\u001b[0m\u001b[37m\u001b[0m \u001b[1m3s\u001b[0m 4ms/step - loss: 0.2063 - mean_absolute_error: 0.3126 - val_loss: 0.2826 - val_mean_absolute_error: 0.3569\n",
            "Epoch 91/100\n",
            "\u001b[1m465/465\u001b[0m \u001b[32m━━━━━━━━━━━━━━━━━━━━\u001b[0m\u001b[37m\u001b[0m \u001b[1m1s\u001b[0m 3ms/step - loss: 0.2106 - mean_absolute_error: 0.3154 - val_loss: 0.2797 - val_mean_absolute_error: 0.3625\n",
            "Epoch 92/100\n",
            "\u001b[1m465/465\u001b[0m \u001b[32m━━━━━━━━━━━━━━━━━━━━\u001b[0m\u001b[37m\u001b[0m \u001b[1m1s\u001b[0m 3ms/step - loss: 0.2210 - mean_absolute_error: 0.3245 - val_loss: 0.2746 - val_mean_absolute_error: 0.3530\n",
            "Epoch 93/100\n",
            "\u001b[1m465/465\u001b[0m \u001b[32m━━━━━━━━━━━━━━━━━━━━\u001b[0m\u001b[37m\u001b[0m \u001b[1m3s\u001b[0m 3ms/step - loss: 0.2123 - mean_absolute_error: 0.3183 - val_loss: 0.2846 - val_mean_absolute_error: 0.3751\n",
            "Epoch 94/100\n",
            "\u001b[1m465/465\u001b[0m \u001b[32m━━━━━━━━━━━━━━━━━━━━\u001b[0m\u001b[37m\u001b[0m \u001b[1m1s\u001b[0m 3ms/step - loss: 0.2148 - mean_absolute_error: 0.3183 - val_loss: 0.2765 - val_mean_absolute_error: 0.3682\n",
            "Epoch 95/100\n",
            "\u001b[1m465/465\u001b[0m \u001b[32m━━━━━━━━━━━━━━━━━━━━\u001b[0m\u001b[37m\u001b[0m \u001b[1m3s\u001b[0m 3ms/step - loss: 0.2074 - mean_absolute_error: 0.3123 - val_loss: 0.2725 - val_mean_absolute_error: 0.3528\n",
            "Epoch 96/100\n",
            "\u001b[1m465/465\u001b[0m \u001b[32m━━━━━━━━━━━━━━━━━━━━\u001b[0m\u001b[37m\u001b[0m \u001b[1m2s\u001b[0m 5ms/step - loss: 0.2176 - mean_absolute_error: 0.3185 - val_loss: 0.2834 - val_mean_absolute_error: 0.3742\n",
            "Epoch 97/100\n",
            "\u001b[1m465/465\u001b[0m \u001b[32m━━━━━━━━━━━━━━━━━━━━\u001b[0m\u001b[37m\u001b[0m \u001b[1m2s\u001b[0m 3ms/step - loss: 0.2072 - mean_absolute_error: 0.3125 - val_loss: 0.2847 - val_mean_absolute_error: 0.3595\n",
            "Epoch 98/100\n",
            "\u001b[1m465/465\u001b[0m \u001b[32m━━━━━━━━━━━━━━━━━━━━\u001b[0m\u001b[37m\u001b[0m \u001b[1m3s\u001b[0m 3ms/step - loss: 0.2100 - mean_absolute_error: 0.3187 - val_loss: 0.2710 - val_mean_absolute_error: 0.3523\n",
            "Epoch 99/100\n",
            "\u001b[1m465/465\u001b[0m \u001b[32m━━━━━━━━━━━━━━━━━━━━\u001b[0m\u001b[37m\u001b[0m \u001b[1m2s\u001b[0m 3ms/step - loss: 0.2038 - mean_absolute_error: 0.3128 - val_loss: 0.2804 - val_mean_absolute_error: 0.3671\n",
            "Epoch 100/100\n",
            "\u001b[1m465/465\u001b[0m \u001b[32m━━━━━━━━━━━━━━━━━━━━\u001b[0m\u001b[37m\u001b[0m \u001b[1m2s\u001b[0m 3ms/step - loss: 0.1984 - mean_absolute_error: 0.3097 - val_loss: 0.2856 - val_mean_absolute_error: 0.3680\n"
          ]
        }
      ]
    },
    {
      "cell_type": "code",
      "source": [
        "test_loss, test_mae = model.evaluate(X_test_scaled, y_test, verbose=2)\n",
        "print(f\"Test MAE: {test_mae:.2f}\")\n"
      ],
      "metadata": {
        "colab": {
          "base_uri": "https://localhost:8080/"
        },
        "id": "pVseeUXiP79n",
        "outputId": "cad01308-2c21-4841-9c55-f9422881880a"
      },
      "execution_count": 9,
      "outputs": [
        {
          "output_type": "stream",
          "name": "stdout",
          "text": [
            "129/129 - 1s - 6ms/step - loss: 0.2700 - mean_absolute_error: 0.3518\n",
            "Test MAE: 0.35\n"
          ]
        }
      ]
    },
    {
      "cell_type": "code",
      "source": [
        "import matplotlib.pyplot as plt\n",
        "\n",
        "plt.plot(history.history['mean_absolute_error'], label='MAE')\n",
        "plt.plot(history.history['val_mean_absolute_error'], label='Val MAE')\n",
        "plt.xlabel('Epoch')\n",
        "plt.ylabel('Mean Absolute Error')\n",
        "plt.legend(loc='upper right')\n",
        "plt.show()"
      ],
      "metadata": {
        "colab": {
          "base_uri": "https://localhost:8080/",
          "height": 449
        },
        "id": "-Gj96dLPQGOV",
        "outputId": "a7f797ab-7c82-4516-811a-a393c0f10c65"
      },
      "execution_count": 10,
      "outputs": [
        {
          "output_type": "display_data",
          "data": {
            "text/plain": [
              "<Figure size 640x480 with 1 Axes>"
            ],
            "image/png": "[encoded data removed]"
          },
          "metadata": {}
        }
      ]
    }
  ]
}